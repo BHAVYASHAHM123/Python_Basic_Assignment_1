{
 "cells": [
  {
   "cell_type": "raw",
   "id": "41009b75",
   "metadata": {},
   "source": [
    "Q1) In the below elements which of them are values or an expression? eg:- values can be integer or string and expressions will be mathematical operators.\n",
    "\n",
    "*\n",
    "\"hello\"\n",
    "-87.8\n",
    "-\n",
    "/\n",
    "+\n",
    "6\n",
    "\n",
    "Ans) Value -> \"hello\", -87.8, 6\n",
    "        expression -> *, -, /, +\n",
    "    "
   ]
  },
  {
   "cell_type": "raw",
   "id": "9a569112",
   "metadata": {},
   "source": [
    "Q2). What is the difference between string and variable?\n",
    "\n",
    "Ans)\n",
    "Variable:\n",
    "a)A variable is basically the name of the location in the primary memory of our computer. \n",
    "b) We can store everything eg string, number.\n",
    "c) eg :- a = \"Bhavya M Shah\" # This is String stored in a variable\n",
    "         b = \"1234\"          # This is Number stored in a variable\n",
    " \n",
    "String: \n",
    "a) A string is the values inside the quotes assigned to a variable.\n",
    "b)eg:- a = \"Bhavya M Shah\" \n",
    "\n"
   ]
  },
  {
   "cell_type": "raw",
   "id": "e7b2720a",
   "metadata": {},
   "source": [
    "Q3). Describe three different data types.\n",
    "\n",
    "Ans)\n",
    "There are three different data types.\n",
    "a)  User Defined \n",
    "b)  Build In \n",
    "c)  Derived\n",
    "\n",
    "a) User Defined : The DataType which is derived by the user eg: Class, Structure, union,Enum, etc,.  \n",
    "b) Build In : The DataType which are Build  eg: Integer, Character, Floting, Void, Double, Void, etc,.\n",
    "c) Derived : The DataType which are Derived from fundamental data types eg : Array, Function, Pointer, etc,.\n"
   ]
  },
  {
   "cell_type": "raw",
   "id": "75c7af20",
   "metadata": {},
   "source": [
    "Q4). What is an expression made up of? What do all expressions do?\n",
    "\n",
    "Ans) a) Expression are made up of variables, operators, and method invocations.\n",
    "     b) Expressions evaluates to a single value.\n",
    "     \n"
   ]
  },
  {
   "cell_type": "raw",
   "id": "b0b20c52",
   "metadata": {},
   "source": [
    "Q5). This assignment statements, like spam = 10. What is the difference between an\n",
    "expression and a statement?\n",
    "\n",
    "Ans)  a) Expression is a combination of values and functions that are combined and interpreted by the compiler to create a new value.\n",
    "      b) Statement which is just a standalone unit of execution and doesn't return anything."
   ]
  },
  {
   "cell_type": "raw",
   "id": "f524002b",
   "metadata": {},
   "source": [
    "Q6). After running the following code, what does the variable bacon contain?\n",
    "bacon = 22\n",
    "bacon + 1\n"
   ]
  },
  {
   "cell_type": "code",
   "execution_count": 1,
   "id": "27b6be28",
   "metadata": {},
   "outputs": [
    {
     "data": {
      "text/plain": [
       "23"
      ]
     },
     "execution_count": 1,
     "metadata": {},
     "output_type": "execute_result"
    }
   ],
   "source": [
    "# The answer of Q6 is:\n",
    "\n",
    "bacon = 22\n",
    "bacon + 1"
   ]
  },
  {
   "cell_type": "raw",
   "id": "0b647eba",
   "metadata": {},
   "source": [
    "Q7). What should the values of the following two terms be?\n",
    "'spam' + 'spamspam'\n",
    "'spam'* 3"
   ]
  },
  {
   "cell_type": "code",
   "execution_count": 10,
   "id": "21367d98",
   "metadata": {},
   "outputs": [
    {
     "data": {
      "text/plain": [
       "'spamspamspam'"
      ]
     },
     "execution_count": 10,
     "metadata": {},
     "output_type": "execute_result"
    }
   ],
   "source": [
    "# The answer of Q7 is:\n",
    "\n",
    "'spam' + 'spamspam'\n"
   ]
  },
  {
   "cell_type": "code",
   "execution_count": 11,
   "id": "d935bc00",
   "metadata": {},
   "outputs": [
    {
     "data": {
      "text/plain": [
       "'spamspamspam'"
      ]
     },
     "execution_count": 11,
     "metadata": {},
     "output_type": "execute_result"
    }
   ],
   "source": [
    "# The answer of Q7 is:\n",
    "'spam'* 3"
   ]
  },
  {
   "cell_type": "raw",
   "id": "ec0af9c2",
   "metadata": {},
   "source": [
    "Q8) Why is eggs a valid variable name while 100 is invalid?\n",
    "\n",
    "Ans) Variable names cannot begin with a number"
   ]
  },
  {
   "cell_type": "raw",
   "id": "40360ebf",
   "metadata": {},
   "source": [
    "Q9) What three functions can be used to get the integer, floating-point number, or string\n",
    "version of a value?\n",
    "\n",
    "Ans) int() , float() , and str( ) functions will evaluate to the integer, floating-point number, and string versions of the value."
   ]
  },
  {
   "cell_type": "raw",
   "id": "93c56c7c",
   "metadata": {},
   "source": [
    "Q10). Why does this expression cause an error? How can you fix it?\n",
    "'I have eaten' + 99 + 'burritos.'"
   ]
  },
  {
   "cell_type": "raw",
   "id": "e5c3d88d",
   "metadata": {},
   "source": [
    "# The answer of Q10 is:\n",
    "'I have eaten' + 99 + 'burritos.'\n",
    "\n",
    "We can only concatenate str to str .\n",
    "str to integer is not  allowed."
   ]
  },
  {
   "cell_type": "code",
   "execution_count": 9,
   "id": "6641a835",
   "metadata": {},
   "outputs": [
    {
     "data": {
      "text/plain": [
       "'I have eaten 99  burritos.'"
      ]
     },
     "execution_count": 9,
     "metadata": {},
     "output_type": "execute_result"
    }
   ],
   "source": [
    "# The answer of Q10 is:( How can you fix it?)\n",
    "'I have eaten '  +  str(99)  + '  burritos.'"
   ]
  },
  {
   "cell_type": "code",
   "execution_count": null,
   "id": "e11ea280",
   "metadata": {},
   "outputs": [],
   "source": []
  }
 ],
 "metadata": {
  "kernelspec": {
   "display_name": "Python 3",
   "language": "python",
   "name": "python3"
  },
  "language_info": {
   "codemirror_mode": {
    "name": "ipython",
    "version": 3
   },
   "file_extension": ".py",
   "mimetype": "text/x-python",
   "name": "python",
   "nbconvert_exporter": "python",
   "pygments_lexer": "ipython3",
   "version": "3.8.8"
  }
 },
 "nbformat": 4,
 "nbformat_minor": 5
}
